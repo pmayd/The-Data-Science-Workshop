{
  "cells": [
    {
      "cell_type": "code",
      "execution_count": 12,
      "metadata": {
        "colab": {},
        "colab_type": "code",
        "id": "tK6L5s-hoLI7"
      },
      "outputs": [],
      "source": [
        "import pandas as pd\n",
        "import numpy as np\n",
        "import statsmodels.formula.api as smf\n",
        "from sklearn.model_selection import train_test_split\n",
        "import seaborn as sns\n",
        "\n",
        "sns.set_style()"
      ]
    },
    {
      "cell_type": "code",
      "execution_count": 2,
      "metadata": {
        "colab": {},
        "colab_type": "code",
        "id": "Q2pZADxloUbD"
      },
      "outputs": [],
      "source": [
        "rawBostonData = pd.read_csv('https://raw.githubusercontent.com/PacktWorkshops/The-Data-Science-Workshop/master/Chapter02/Dataset/Boston.csv')"
      ]
    },
    {
      "cell_type": "code",
      "execution_count": 3,
      "metadata": {
        "colab": {},
        "colab_type": "code",
        "id": "Hylk6zVIoVyu"
      },
      "outputs": [],
      "source": [
        "rawBostonData = rawBostonData.dropna()"
      ]
    },
    {
      "cell_type": "code",
      "execution_count": 4,
      "metadata": {
        "colab": {},
        "colab_type": "code",
        "id": "RmcO-usHoW3d"
      },
      "outputs": [],
      "source": [
        "rawBostonData = rawBostonData.drop_duplicates()"
      ]
    },
    {
      "cell_type": "code",
      "execution_count": 5,
      "metadata": {
        "colab": {},
        "colab_type": "code",
        "id": "8v1TTJ8XoarG"
      },
      "outputs": [],
      "source": [
        "renamedBostonData = rawBostonData.rename(columns = {'CRIM':'crimeRatePerCapita',\n",
        " ' ZN ':'landOver25K_sqft',\n",
        " 'INDUS ':'non-retailLandProptn',\n",
        " 'CHAS':'riverDummy',\n",
        " 'NOX':'nitrixOxide_pp10m',\n",
        " 'RM':'AvgNo.RoomsPerDwelling',\n",
        " 'AGE':'ProptnOwnerOccupied',\n",
        " 'DIS':'weightedDist',\n",
        " 'RAD':'radialHighwaysAccess',\n",
        " 'TAX':'propTaxRate_per10K',\n",
        " 'PTRATIO':'pupilTeacherRatio',\n",
        " 'LSTAT':'pctLowerStatus',\n",
        " 'MEDV':'medianValue_Ks'})"
      ]
    },
    {
      "cell_type": "code",
      "execution_count": 6,
      "metadata": {
        "colab": {},
        "colab_type": "code",
        "id": "_TgUK96aodPZ"
      },
      "outputs": [],
      "source": [
        "X = renamedBostonData.drop(\"crimeRatePerCapita\", axis=1)\n",
        "y = renamedBostonData[[\"crimeRatePerCapita\"]]\n",
        "seed = 10\n",
        "test_data_size = 0.3\n",
        "X_train, X_test, y_train, y_test = train_test_split(\n",
        "    X, y, test_size=test_data_size, random_state=seed\n",
        ")\n",
        "train_data = pd.concat([X_train, y_train], axis=1)\n",
        "test_data = pd.concat([X_test, y_test], axis=1)\n"
      ]
    },
    {
      "cell_type": "code",
      "execution_count": 18,
      "metadata": {},
      "outputs": [
        {
          "data": {
            "text/plain": [
              "landOver25K_sqft         -0.198455\n",
              "non-retailLandProptn      0.387471\n",
              "riverDummy               -0.044587\n",
              "nitrixOxide_pp10m         0.405813\n",
              "AvgNo.RoomsPerDwelling   -0.167258\n",
              "ProptnOwnerOccupied       0.355730\n",
              "weightedDist             -0.378997\n",
              "radialHighwaysAccess      0.608838\n",
              "propTaxRate_per10K        0.565035\n",
              "pupilTeacherRatio         0.276530\n",
              "pctLowerStatus            0.406340\n",
              "medianValue_Ks           -0.378949\n",
              "crimeRatePerCapita        1.000000\n",
              "Name: crimeRatePerCapita, dtype: float64"
            ]
          },
          "execution_count": 18,
          "metadata": {},
          "output_type": "execute_result"
        }
      ],
      "source": [
        "train_data.corr()[\"crimeRatePerCapita\"] "
      ]
    },
    {
      "cell_type": "code",
      "execution_count": 30,
      "metadata": {
        "colab": {},
        "colab_type": "code",
        "id": "8ihQYGRSoigK"
      },
      "outputs": [],
      "source": [
        "#multiLogLinMod = smf.ols(\n",
        "#    formula=\"np.log(crimeRatePerCapita) ~ (pctLowerStatus + radialHighwaysAccess + propTaxRate_per10K + nitrixOxide_pp10m)\",\n",
        "#    data=train_data,\n",
        "#)\n",
        "multiLogLinMod = smf.ols(\n",
        "    formula=\"np.log(crimeRatePerCapita) ~ (pctLowerStatus + radialHighwaysAccess + propTaxRate_per10K + nitrixOxide_pp10m)**2\",\n",
        "    data=train_data,\n",
        ")\n"
      ]
    },
    {
      "cell_type": "code",
      "execution_count": 31,
      "metadata": {
        "colab": {},
        "colab_type": "code",
        "id": "_50rFstRor3Z"
      },
      "outputs": [],
      "source": [
        "multiLogLinModResult = multiLogLinMod.fit()"
      ]
    },
    {
      "cell_type": "code",
      "execution_count": 32,
      "metadata": {
        "colab": {
          "base_uri": "https://localhost:8080/",
          "height": 629
        },
        "colab_type": "code",
        "id": "6X0maK5NovBx",
        "outputId": "b624fea4-257b-453e-feec-3453e3eb4d52"
      },
      "outputs": [
        {
          "name": "stdout",
          "output_type": "stream",
          "text": [
            "                                OLS Regression Results                                \n",
            "======================================================================================\n",
            "Dep. Variable:     np.log(crimeRatePerCapita)   R-squared:                       0.879\n",
            "Model:                                    OLS   Adj. R-squared:                  0.875\n",
            "Method:                         Least Squares   F-statistic:                     248.1\n",
            "Date:                        Sat, 29 Jan 2022   Prob (F-statistic):          2.23e-150\n",
            "Time:                                19:24:35   Log-Likelihood:                -402.63\n",
            "No. Observations:                         354   AIC:                             827.3\n",
            "Df Residuals:                             343   BIC:                             869.8\n",
            "Df Model:                                  10                                         \n",
            "Covariance Type:                    nonrobust                                         \n",
            "===========================================================================================================\n",
            "                                              coef    std err          t      P>|t|      [0.025      0.975]\n",
            "-----------------------------------------------------------------------------------------------------------\n",
            "Intercept                                 -11.5017      1.287     -8.935      0.000     -14.034      -8.970\n",
            "pctLowerStatus                              0.1646      0.039      4.168      0.000       0.087       0.242\n",
            "radialHighwaysAccess                        0.3571      0.086      4.160      0.000       0.188       0.526\n",
            "propTaxRate_per10K                          0.0076      0.004      1.702      0.090      -0.001       0.016\n",
            "nitrixOxide_pp10m                          14.7011      2.714      5.416      0.000       9.362      20.040\n",
            "pctLowerStatus:radialHighwaysAccess         0.0047      0.002      2.653      0.008       0.001       0.008\n",
            "pctLowerStatus:propTaxRate_per10K          -0.0002   9.49e-05     -1.977      0.049      -0.000   -9.52e-07\n",
            "pctLowerStatus:nitrixOxide_pp10m           -0.1548      0.063     -2.443      0.015      -0.279      -0.030\n",
            "radialHighwaysAccess:propTaxRate_per10K    -0.0001   9.15e-05     -1.489      0.138      -0.000    4.38e-05\n",
            "radialHighwaysAccess:nitrixOxide_pp10m     -0.2853      0.161     -1.771      0.077      -0.602       0.031\n",
            "propTaxRate_per10K:nitrixOxide_pp10m       -0.0088      0.009     -0.961      0.337      -0.027       0.009\n",
            "==============================================================================\n",
            "Omnibus:                        6.214   Durbin-Watson:                   1.972\n",
            "Prob(Omnibus):                  0.045   Jarque-Bera (JB):                6.074\n",
            "Skew:                           0.273   Prob(JB):                       0.0480\n",
            "Kurtosis:                       3.338   Cond. No.                     8.23e+05\n",
            "==============================================================================\n",
            "\n",
            "Notes:\n",
            "[1] Standard Errors assume that the covariance matrix of the errors is correctly specified.\n",
            "[2] The condition number is large, 8.23e+05. This might indicate that there are\n",
            "strong multicollinearity or other numerical problems.\n"
          ]
        }
      ],
      "source": [
        "print(multiLogLinModResult.summary())"
      ]
    },
    {
      "cell_type": "code",
      "execution_count": 34,
      "metadata": {},
      "outputs": [
        {
          "data": {
            "text/plain": [
              "Int64Index([ 97, 130, 477, 345,  84, 392, 149, 101, 444, 456,\n",
              "            ...\n",
              "            221, 473, 156, 123, 369, 320,  15, 484, 125, 265],\n",
              "           dtype='int64', length=354)"
            ]
          },
          "execution_count": 34,
          "metadata": {},
          "output_type": "execute_result"
        }
      ],
      "source": [
        "\n",
        "multiLogLinModResult.resid"
      ]
    },
    {
      "cell_type": "code",
      "execution_count": 29,
      "metadata": {},
      "outputs": [
        {
          "data": {
            "text/plain": [
              "<AxesSubplot:ylabel='Count'>"
            ]
          },
          "execution_count": 29,
          "metadata": {},
          "output_type": "execute_result"
        },
        {
          "data": {
            "image/png": "[encoded data removed]",
            "text/plain": [
              "<Figure size 432x288 with 1 Axes>"
            ]
          },
          "metadata": {
            "needs_background": "light"
          },
          "output_type": "display_data"
        }
      ],
      "source": [
        "sns.histplot(data=multiLogLinModResult.resid)"
      ]
    },
    {
      "cell_type": "code",
      "execution_count": 40,
      "metadata": {},
      "outputs": [
        {
          "data": {
            "text/plain": [
              "<AxesSubplot:>"
            ]
          },
          "execution_count": 40,
          "metadata": {},
          "output_type": "execute_result"
        },
        {
          "data": {
            "image/png": "[encoded data removed]",
            "text/plain": [
              "<Figure size 432x288 with 1 Axes>"
            ]
          },
          "metadata": {
            "needs_background": "light"
          },
          "output_type": "display_data"
        }
      ],
      "source": [
        "sns.regplot(x=multiLogLinModResult.resid.index, y=multiLogLinModResult.resid, ci=None)"
      ]
    },
    {
      "cell_type": "markdown",
      "metadata": {},
      "source": [
        "# Calculation of R^2"
      ]
    },
    {
      "cell_type": "code",
      "execution_count": 62,
      "metadata": {},
      "outputs": [
        {
          "data": {
            "text/plain": [
              "1457.8179922087975"
            ]
          },
          "execution_count": 62,
          "metadata": {},
          "output_type": "execute_result"
        }
      ],
      "source": [
        "y_pred = multiLogLinModResult.predict(train_data)\n",
        "y_pred_mean = y_pred.mean()\n",
        "TSS = ((y_pred-y_pred_mean)**2).sum()  # measure of total variance found in the dependent variable from its mean value\n",
        "TSS"
      ]
    },
    {
      "cell_type": "code",
      "execution_count": 56,
      "metadata": {},
      "outputs": [
        {
          "data": {
            "text/plain": [
              "201.5766576360341"
            ]
          },
          "execution_count": 56,
          "metadata": {},
          "output_type": "execute_result"
        }
      ],
      "source": [
        "multiLogLinModResult.ssr"
      ]
    },
    {
      "cell_type": "code",
      "execution_count": 59,
      "metadata": {},
      "outputs": [
        {
          "data": {
            "text/plain": [
              "1659.3946498446226"
            ]
          },
          "execution_count": 59,
          "metadata": {},
          "output_type": "execute_result"
        }
      ],
      "source": [
        "multiLogLinModResult.centered_tss"
      ]
    },
    {
      "cell_type": "code",
      "execution_count": 63,
      "metadata": {},
      "outputs": [
        {
          "data": {
            "text/plain": [
              "201.57665763603407"
            ]
          },
          "execution_count": 63,
          "metadata": {},
          "output_type": "execute_result"
        }
      ],
      "source": [
        "SSR = (multiLogLinModResult.resid**2).sum()\n",
        "SSR"
      ]
    },
    {
      "cell_type": "code",
      "execution_count": 65,
      "metadata": {},
      "outputs": [
        {
          "data": {
            "text/plain": [
              "0.8617271437769695"
            ]
          },
          "execution_count": 65,
          "metadata": {},
          "output_type": "execute_result"
        }
      ],
      "source": [
        "1 - SSR/TSS"
      ]
    },
    {
      "cell_type": "code",
      "execution_count": null,
      "metadata": {},
      "outputs": [],
      "source": []
    }
  ],
  "metadata": {
    "colab": {
      "collapsed_sections": [],
      "name": "Activity2_02.ipynb",
      "provenance": []
    },
    "kernelspec": {
      "display_name": "Python 3",
      "language": "python",
      "name": "python3"
    },
    "language_info": {
      "codemirror_mode": {
        "name": "ipython",
        "version": 3
      },
      "file_extension": ".py",
      "mimetype": "text/x-python",
      "name": "python",
      "nbconvert_exporter": "python",
      "pygments_lexer": "ipython3",
      "version": "3.9.7"
    }
  },
  "nbformat": 4,
  "nbformat_minor": 0
}
