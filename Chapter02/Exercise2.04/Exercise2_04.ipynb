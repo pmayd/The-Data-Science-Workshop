{
  "cells": [
    {
      "cell_type": "markdown",
      "metadata": {
        "colab_type": "text",
        "id": "ZPK9fWz0xGeD"
      },
      "source": [
        "**Import the necessary modules and prepare the data**"
      ]
    },
    {
      "cell_type": "code",
      "execution_count": 1,
      "metadata": {
        "colab": {},
        "colab_type": "code",
        "id": "k5QR71xFLGkh"
      },
      "outputs": [],
      "source": [
        "import pandas as pd\n",
        "import statsmodels.formula.api as smf\n",
        "from sklearn.model_selection import train_test_split"
      ]
    },
    {
      "cell_type": "code",
      "execution_count": 2,
      "metadata": {
        "colab": {},
        "colab_type": "code",
        "id": "RpkR60AxLNkl"
      },
      "outputs": [],
      "source": [
        "rawBostonData = pd.read_csv('https://raw.githubusercontent.com/PacktWorkshops/The-Data-Science-Workshop/master/Chapter02/Dataset/Boston.csv')"
      ]
    },
    {
      "cell_type": "code",
      "execution_count": 3,
      "metadata": {
        "colab": {},
        "colab_type": "code",
        "id": "2Qwjq3ODLWUF"
      },
      "outputs": [],
      "source": [
        "rawBostonData = rawBostonData.dropna()\n",
        "rawBostonData = rawBostonData.drop_duplicates() \n",
        "renamedBostonData = rawBostonData.rename(columns = {'CRIM':'crimeRatePerCapita',\n",
        " ' ZN ':'landOver25K_sqft',\n",
        " 'INDUS ':'non-retailLandProptn',\n",
        " 'CHAS':'riverDummy',\n",
        " 'NOX':'nitrixOxide_pp10m',\n",
        " 'RM':'AvgNo.RoomsPerDwelling',\n",
        " 'AGE':'ProptnOwnerOccupied',\n",
        " 'DIS':'weightedDist',\n",
        " 'RAD':'radialHighwaysAccess',\n",
        " 'TAX':'propTaxRate_per10K',\n",
        " 'PTRATIO':'pupilTeacherRatio',\n",
        " 'LSTAT':'pctLowerStatus',\n",
        " 'MEDV':'medianValue_Ks'})\n",
        "X = renamedBostonData.drop('crimeRatePerCapita', axis = 1)\n",
        "y = renamedBostonData[['crimeRatePerCapita']]\n",
        "seed = 10 \n",
        "test_data_size = 0.3 \n",
        "X_train, X_test, y_train, y_test = train_test_split(X, y, test_size = test_data_size, random_state = seed)\n",
        "train_data = pd.concat([X_train, y_train], axis = 1)\n",
        "test_data = pd.concat([X_test, y_test], axis = 1)"
      ]
    },
    {
      "cell_type": "markdown",
      "metadata": {
        "colab_type": "text",
        "id": "3B9t1_oXO6GB"
      },
      "source": [
        "**Exercise 2.04: Fit a simple linear regression model using the Statsmodels formula API**"
      ]
    },
    {
      "cell_type": "code",
      "execution_count": 12,
      "metadata": {
        "colab": {
          "base_uri": "https://localhost:8080/",
          "height": 442
        },
        "colab_type": "code",
        "id": "o_CbjkexLfyy",
        "outputId": "a1f7aa2b-5b51-49ce-96e9-f7fc0f5b035f"
      },
      "outputs": [
        {
          "name": "stdout",
          "output_type": "stream",
          "text": [
            "                            OLS Regression Results                            \n",
            "==============================================================================\n",
            "Dep. Variable:     crimeRatePerCapita   R-squared:                       0.144\n",
            "Model:                            OLS   Adj. R-squared:                  0.141\n",
            "Method:                 Least Squares   F-statistic:                     59.02\n",
            "Date:                Fri, 28 Jan 2022   Prob (F-statistic):           1.56e-13\n",
            "Time:                        22:10:06   Log-Likelihood:                -1217.4\n",
            "No. Observations:                 354   AIC:                             2439.\n",
            "Df Residuals:                     352   BIC:                             2447.\n",
            "Df Model:                           1                                         \n",
            "Covariance Type:            nonrobust                                         \n",
            "==================================================================================\n",
            "                     coef    std err          t      P>|t|      [0.025      0.975]\n",
            "----------------------------------------------------------------------------------\n",
            "Intercept         11.2094      1.079     10.386      0.000       9.087      13.332\n",
            "medianValue_Ks    -0.3502      0.046     -7.683      0.000      -0.440      -0.261\n",
            "==============================================================================\n",
            "Omnibus:                      447.354   Durbin-Watson:                   1.928\n",
            "Prob(Omnibus):                  0.000   Jarque-Bera (JB):            39791.431\n",
            "Skew:                           5.897   Prob(JB):                         0.00\n",
            "Kurtosis:                      53.583   Cond. No.                         63.7\n",
            "==============================================================================\n",
            "\n",
            "Notes:\n",
            "[1] Standard Errors assume that the covariance matrix of the errors is correctly specified.\n"
          ]
        }
      ],
      "source": [
        "# Use the statsmodels API to create a simple linear regression\n",
        "\n",
        "linearModel = smf.ols(formula=\"crimeRatePerCapita ~ medianValue_Ks + 1\", data=train_data)\n",
        "linearModelResult = linearModel.fit()\n",
        "\n",
        "print(linearModelResult.summary())\n"
      ]
    },
    {
      "cell_type": "code",
      "execution_count": 13,
      "metadata": {},
      "outputs": [
        {
          "data": {
            "text/html": [
              "<div>\n",
              "<style scoped>\n",
              "    .dataframe tbody tr th:only-of-type {\n",
              "        vertical-align: middle;\n",
              "    }\n",
              "\n",
              "    .dataframe tbody tr th {\n",
              "        vertical-align: top;\n",
              "    }\n",
              "\n",
              "    .dataframe thead th {\n",
              "        text-align: right;\n",
              "    }\n",
              "</style>\n",
              "<table border=\"1\" class=\"dataframe\">\n",
              "  <thead>\n",
              "    <tr style=\"text-align: right;\">\n",
              "      <th></th>\n",
              "      <th>0</th>\n",
              "      <th>1</th>\n",
              "    </tr>\n",
              "  </thead>\n",
              "  <tbody>\n",
              "    <tr>\n",
              "      <th>Intercept</th>\n",
              "      <td>9.086830</td>\n",
              "      <td>13.332027</td>\n",
              "    </tr>\n",
              "    <tr>\n",
              "      <th>medianValue_Ks</th>\n",
              "      <td>-0.439912</td>\n",
              "      <td>-0.260588</td>\n",
              "    </tr>\n",
              "  </tbody>\n",
              "</table>\n",
              "</div>"
            ],
            "text/plain": [
              "                       0          1\n",
              "Intercept       9.086830  13.332027\n",
              "medianValue_Ks -0.439912  -0.260588"
            ]
          },
          "execution_count": 13,
          "metadata": {},
          "output_type": "execute_result"
        }
      ],
      "source": [
        "linearModelResult.conf_int()"
      ]
    },
    {
      "cell_type": "code",
      "execution_count": 23,
      "metadata": {},
      "outputs": [
        {
          "data": {
            "text/plain": [
              "<AxesSubplot:ylabel='Frequency'>"
            ]
          },
          "execution_count": 23,
          "metadata": {},
          "output_type": "execute_result"
        },
        {
          "data": {
            "image/png": "[encoded data removed]",
            "text/plain": [
              "<Figure size 432x288 with 1 Axes>"
            ]
          },
          "metadata": {
            "needs_background": "light"
          },
          "output_type": "display_data"
        }
      ],
      "source": []
    },
    {
      "cell_type": "code",
      "execution_count": null,
      "metadata": {},
      "outputs": [],
      "source": []
    }
  ],
  "metadata": {
    "colab": {
      "name": "Exercise2.04.ipynb",
      "provenance": []
    },
    "kernelspec": {
      "display_name": "Python 3",
      "language": "python",
      "name": "python3"
    },
    "language_info": {
      "codemirror_mode": {
        "name": "ipython",
        "version": 3
      },
      "file_extension": ".py",
      "mimetype": "text/x-python",
      "name": "python",
      "nbconvert_exporter": "python",
      "pygments_lexer": "ipython3",
      "version": "3.9.7"
    }
  },
  "nbformat": 4,
  "nbformat_minor": 0
}
