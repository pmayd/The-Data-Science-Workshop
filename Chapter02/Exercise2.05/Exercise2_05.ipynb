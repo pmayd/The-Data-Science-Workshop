{
  "cells": [
    {
      "cell_type": "markdown",
      "metadata": {
        "colab_type": "text",
        "id": "AbsjF_-0Lort"
      },
      "source": [
        "**Import the necessary modules and prepare the data**"
      ]
    },
    {
      "cell_type": "code",
      "execution_count": 1,
      "metadata": {
        "colab": {},
        "colab_type": "code",
        "id": "k5QR71xFLGkh"
      },
      "outputs": [],
      "source": [
        "import statsmodels.formula.api as smf\n",
        "import pandas as pd\n",
        "from sklearn.model_selection import train_test_split"
      ]
    },
    {
      "cell_type": "code",
      "execution_count": 2,
      "metadata": {
        "colab": {},
        "colab_type": "code",
        "id": "RpkR60AxLNkl"
      },
      "outputs": [],
      "source": [
        "rawBostonData = pd.read_csv('https://raw.githubusercontent.com/PacktWorkshops/The-Data-Science-Workshop/master/Chapter02/Dataset/Boston.csv')"
      ]
    },
    {
      "cell_type": "code",
      "execution_count": 3,
      "metadata": {
        "colab": {},
        "colab_type": "code",
        "id": "2Qwjq3ODLWUF"
      },
      "outputs": [],
      "source": [
        "rawBostonData = rawBostonData.dropna()\n",
        "rawBostonData = rawBostonData.drop_duplicates()\n",
        "renamedBostonData = rawBostonData.rename(\n",
        "    columns={\n",
        "        \"CRIM\": \"crimeRatePerCapita\",\n",
        "        \" ZN \": \"landOver25K_sqft\",\n",
        "        \"INDUS \": \"non-retailLandProptn\",\n",
        "        \"CHAS\": \"riverDummy\",\n",
        "        \"NOX\": \"nitrixOxide_pp10m\",\n",
        "        \"RM\": \"AvgNo.RoomsPerDwelling\",\n",
        "        \"AGE\": \"ProptnOwnerOccupied\",\n",
        "        \"DIS\": \"weightedDist\",\n",
        "        \"RAD\": \"radialHighwaysAccess\",\n",
        "        \"TAX\": \"propTaxRate_per10K\",\n",
        "        \"PTRATIO\": \"pupilTeacherRatio\",\n",
        "        \"LSTAT\": \"pctLowerStatus\",\n",
        "        \"MEDV\": \"medianValue_Ks\",\n",
        "    }\n",
        ")\n",
        "X = renamedBostonData.drop(\"crimeRatePerCapita\", axis=1)\n",
        "y = renamedBostonData[[\"crimeRatePerCapita\"]]\n",
        "seed = 10\n",
        "test_data_size = 0.3\n",
        "X_train, X_test, y_train, y_test = train_test_split(\n",
        "    X, y, test_size=test_data_size, random_state=seed\n",
        ")\n",
        "train_data = pd.concat([X_train, y_train], axis=1)\n",
        "test_data = pd.concat([X_test, y_test], axis=1)\n"
      ]
    },
    {
      "cell_type": "markdown",
      "metadata": {
        "colab_type": "text",
        "id": "3B9t1_oXO6GB"
      },
      "source": [
        "**Exercise 2.05: Fit a multiple linear regression model using the Statsmodels formula API** "
      ]
    },
    {
      "cell_type": "code",
      "execution_count": 4,
      "metadata": {
        "colab": {
          "base_uri": "https://localhost:8080/",
          "height": 493
        },
        "colab_type": "code",
        "id": "o_CbjkexLfyy",
        "outputId": "bb48461b-d6aa-43f3-d810-bc3d520928ad"
      },
      "outputs": [
        {
          "name": "stdout",
          "output_type": "stream",
          "text": [
            "                            OLS Regression Results                            \n",
            "==============================================================================\n",
            "Dep. Variable:     crimeRatePerCapita   R-squared:                       0.398\n",
            "Model:                            OLS   Adj. R-squared:                  0.391\n",
            "Method:                 Least Squares   F-statistic:                     57.77\n",
            "Date:                Fri, 28 Jan 2022   Prob (F-statistic):           2.19e-37\n",
            "Time:                        22:16:47   Log-Likelihood:                -1154.9\n",
            "No. Observations:                 354   AIC:                             2320.\n",
            "Df Residuals:                     349   BIC:                             2339.\n",
            "Df Model:                           4                                         \n",
            "Covariance Type:            nonrobust                                         \n",
            "========================================================================================\n",
            "                           coef    std err          t      P>|t|      [0.025      0.975]\n",
            "----------------------------------------------------------------------------------------\n",
            "Intercept                0.8912      2.670      0.334      0.739      -4.360       6.142\n",
            "pctLowerStatus           0.1028      0.080      1.277      0.202      -0.055       0.261\n",
            "radialHighwaysAccess     0.4948      0.048     10.216      0.000       0.400       0.590\n",
            "medianValue_Ks          -0.1103      0.058     -1.916      0.056      -0.224       0.003\n",
            "nitrixOxide_pp10m       -2.1039      4.131     -0.509      0.611     -10.229       6.021\n",
            "==============================================================================\n",
            "Omnibus:                      534.476   Durbin-Watson:                   1.999\n",
            "Prob(Omnibus):                  0.000   Jarque-Bera (JB):           100129.789\n",
            "Skew:                           7.866   Prob(JB):                         0.00\n",
            "Kurtosis:                      83.876   Cond. No.                         374.\n",
            "==============================================================================\n",
            "\n",
            "Notes:\n",
            "[1] Standard Errors assume that the covariance matrix of the errors is correctly specified.\n"
          ]
        }
      ],
      "source": [
        "multiLinearModel = smf.ols(\n",
        "    formula=\"crimeRatePerCapita \\\n",
        "        ~ pctLowerStatus \\\n",
        "        + radialHighwaysAccess \\\n",
        "        + medianValue_Ks \\\n",
        "        + nitrixOxide_pp10m\",\n",
        "    data=train_data,\n",
        ")\n",
        "multiLinearModResult = multiLinearModel.fit()\n",
        "print(multiLinearModResult.summary())\n"
      ]
    },
    {
      "cell_type": "code",
      "execution_count": 7,
      "metadata": {},
      "outputs": [],
      "source": [
        "import numpy as np\n",
        "x = np.linspace(0, 1, 100)\n",
        "y = 2*x + np.random.rand(100)\n",
        "\n",
        "df = pd.DataFrame({'x': x, 'y': y})"
      ]
    },
    {
      "cell_type": "code",
      "execution_count": 8,
      "metadata": {},
      "outputs": [
        {
          "data": {
            "text/plain": [
              "<matplotlib.collections.PathCollection at 0x2461764f4c0>"
            ]
          },
          "execution_count": 8,
          "metadata": {},
          "output_type": "execute_result"
        },
        {
          "data": {
            "image/png": "[encoded data removed]",
            "text/plain": [
              "<Figure size 432x288 with 1 Axes>"
            ]
          },
          "metadata": {
            "needs_background": "light"
          },
          "output_type": "display_data"
        }
      ],
      "source": [
        "import matplotlib.pyplot as plt \n",
        "\n",
        "plt.scatter(x=\"x\", y=\"y\", data=df)"
      ]
    },
    {
      "cell_type": "code",
      "execution_count": 12,
      "metadata": {},
      "outputs": [
        {
          "name": "stdout",
          "output_type": "stream",
          "text": [
            "                            OLS Regression Results                            \n",
            "==============================================================================\n",
            "Dep. Variable:                      y   R-squared:                       0.814\n",
            "Model:                            OLS   Adj. R-squared:                  0.812\n",
            "Method:                 Least Squares   F-statistic:                     427.9\n",
            "Date:                Fri, 28 Jan 2022   Prob (F-statistic):           1.56e-37\n",
            "Time:                        22:18:06   Log-Likelihood:                -19.003\n",
            "No. Observations:                 100   AIC:                             42.01\n",
            "Df Residuals:                      98   BIC:                             47.22\n",
            "Df Model:                           1                                         \n",
            "Covariance Type:            nonrobust                                         \n",
            "==============================================================================\n",
            "                 coef    std err          t      P>|t|      [0.025      0.975]\n",
            "------------------------------------------------------------------------------\n",
            "Intercept      0.4469      0.059      7.616      0.000       0.330       0.563\n",
            "x              2.0971      0.101     20.687      0.000       1.896       2.298\n",
            "==============================================================================\n",
            "Omnibus:                       23.646   Durbin-Watson:                   2.067\n",
            "Prob(Omnibus):                  0.000   Jarque-Bera (JB):                5.577\n",
            "Skew:                           0.148   Prob(JB):                       0.0615\n",
            "Kurtosis:                       1.882   Cond. No.                         4.35\n",
            "==============================================================================\n",
            "\n",
            "Notes:\n",
            "[1] Standard Errors assume that the covariance matrix of the errors is correctly specified.\n"
          ]
        }
      ],
      "source": [
        "model = smf.ols(formula='y ~ x', data=df)\n",
        "model_results = model.fit()\n",
        "print(model_results.summary())"
      ]
    },
    {
      "cell_type": "code",
      "execution_count": 14,
      "metadata": {},
      "outputs": [],
      "source": [
        "x2 = x**2\n",
        "x3 = x*x2"
      ]
    },
    {
      "cell_type": "code",
      "execution_count": 17,
      "metadata": {},
      "outputs": [
        {
          "name": "stdout",
          "output_type": "stream",
          "text": [
            "                            OLS Regression Results                            \n",
            "==============================================================================\n",
            "Dep. Variable:                      y   R-squared:                       0.817\n",
            "Model:                            OLS   Adj. R-squared:                  0.813\n",
            "Method:                 Least Squares   F-statistic:                     215.9\n",
            "Date:                Fri, 28 Jan 2022   Prob (F-statistic):           1.90e-36\n",
            "Time:                        22:19:29   Log-Likelihood:                -18.221\n",
            "No. Observations:                 100   AIC:                             42.44\n",
            "Df Residuals:                      97   BIC:                             50.26\n",
            "Df Model:                           2                                         \n",
            "Covariance Type:            nonrobust                                         \n",
            "==============================================================================\n",
            "                 coef    std err          t      P>|t|      [0.025      0.975]\n",
            "------------------------------------------------------------------------------\n",
            "Intercept      0.5259      0.087      6.067      0.000       0.354       0.698\n",
            "x              1.6177      0.401      4.037      0.000       0.822       2.413\n",
            "x2             0.4794      0.388      1.236      0.219      -0.290       1.249\n",
            "==============================================================================\n",
            "Omnibus:                       22.823   Durbin-Watson:                   2.100\n",
            "Prob(Omnibus):                  0.000   Jarque-Bera (JB):                5.663\n",
            "Skew:                           0.181   Prob(JB):                       0.0589\n",
            "Kurtosis:                       1.892   Cond. No.                         22.5\n",
            "==============================================================================\n",
            "\n",
            "Notes:\n",
            "[1] Standard Errors assume that the covariance matrix of the errors is correctly specified.\n"
          ]
        }
      ],
      "source": [
        "model = smf.ols(formula='y ~ x + x2', data=df)\n",
        "model_results = model.fit()\n",
        "print(model_results.summary())"
      ]
    },
    {
      "cell_type": "code",
      "execution_count": null,
      "metadata": {},
      "outputs": [],
      "source": []
    }
  ],
  "metadata": {
    "colab": {
      "name": "Exercise2_05.ipynb",
      "provenance": []
    },
    "kernelspec": {
      "display_name": "Python 3",
      "language": "python",
      "name": "python3"
    },
    "language_info": {
      "codemirror_mode": {
        "name": "ipython",
        "version": 3
      },
      "file_extension": ".py",
      "mimetype": "text/x-python",
      "name": "python",
      "nbconvert_exporter": "python",
      "pygments_lexer": "ipython3",
      "version": "3.9.7"
    }
  },
  "nbformat": 4,
  "nbformat_minor": 0
}
