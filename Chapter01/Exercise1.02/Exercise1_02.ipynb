{
  "cells": [
    {
      "cell_type": "code",
      "execution_count": 1,
      "metadata": {
        "colab": {},
        "colab_type": "code",
        "id": "bPe8tlE4ShtQ"
      },
      "outputs": [],
      "source": [
        "import pandas as pd"
      ]
    },
    {
      "cell_type": "code",
      "execution_count": 2,
      "metadata": {
        "colab": {},
        "colab_type": "code",
        "id": "0RJHtTTTS8ak"
      },
      "outputs": [],
      "source": [
        "csv_url = 'https://raw.githubusercontent.com/PacktWorkshops/The-Data-Science-Workshop/master/Chapter01/Dataset/overall_topten_2012-2013.csv'"
      ]
    },
    {
      "cell_type": "code",
      "execution_count": null,
      "metadata": {
        "colab": {
          "base_uri": "https://localhost:8080/",
          "height": 359
        },
        "colab_type": "code",
        "id": "V5PMuIMCVv3S",
        "outputId": "59b83999-6dee-4a79-c199-452288f8bc14"
      },
      "outputs": [],
      "source": [
        "csv_df = pd.read_csv(csv_url, skiprows=1)\n",
        "csv_df"
      ]
    },
    {
      "cell_type": "code",
      "execution_count": 7,
      "metadata": {
        "colab": {},
        "colab_type": "code",
        "id": "DzO8pIA3Vwe1"
      },
      "outputs": [],
      "source": [
        "tsv_url = 'https://raw.githubusercontent.com/PacktWorkshops/The-Data-Science-Workshop/master/Chapter01/Dataset/overall_topten_2012-2013.tsv'"
      ]
    },
    {
      "cell_type": "code",
      "execution_count": 8,
      "metadata": {
        "colab": {
          "base_uri": "https://localhost:8080/",
          "height": 359
        },
        "colab_type": "code",
        "id": "p8zUaSDuV3zp",
        "outputId": "76be10ef-078f-4efe-839e-184adde7a7eb"
      },
      "outputs": [
        {
          "data": {
            "text/html": [
              "<div>\n",
              "<style scoped>\n",
              "    .dataframe tbody tr th:only-of-type {\n",
              "        vertical-align: middle;\n",
              "    }\n",
              "\n",
              "    .dataframe tbody tr th {\n",
              "        vertical-align: top;\n",
              "    }\n",
              "\n",
              "    .dataframe thead th {\n",
              "        text-align: right;\n",
              "    }\n",
              "</style>\n",
              "<table border=\"1\" class=\"dataframe\">\n",
              "  <thead>\n",
              "    <tr style=\"text-align: right;\">\n",
              "      <th></th>\n",
              "      <th>Number</th>\n",
              "      <th>Postcode</th>\n",
              "      <th>Suburbs</th>\n",
              "      <th>Number of Applications</th>\n",
              "    </tr>\n",
              "  </thead>\n",
              "  <tbody>\n",
              "    <tr>\n",
              "      <th>0</th>\n",
              "      <td>1</td>\n",
              "      <td>3029</td>\n",
              "      <td>Hoppers Crossing, Tarneit</td>\n",
              "      <td>1069</td>\n",
              "    </tr>\n",
              "    <tr>\n",
              "      <th>1</th>\n",
              "      <td>2</td>\n",
              "      <td>3977</td>\n",
              "      <td>Cranbourne, Devon Meadows, Skye</td>\n",
              "      <td>1037</td>\n",
              "    </tr>\n",
              "    <tr>\n",
              "      <th>2</th>\n",
              "      <td>3</td>\n",
              "      <td>3064</td>\n",
              "      <td>Craigieburn, Donnybrook, Roxburgh Park, Mickleham</td>\n",
              "      <td>821</td>\n",
              "    </tr>\n",
              "    <tr>\n",
              "      <th>3</th>\n",
              "      <td>4</td>\n",
              "      <td>3030</td>\n",
              "      <td>Point Cook, Werribee, Derrimut</td>\n",
              "      <td>816</td>\n",
              "    </tr>\n",
              "    <tr>\n",
              "      <th>4</th>\n",
              "      <td>5</td>\n",
              "      <td>3754</td>\n",
              "      <td>Doreen, Mernda</td>\n",
              "      <td>530</td>\n",
              "    </tr>\n",
              "    <tr>\n",
              "      <th>5</th>\n",
              "      <td>6</td>\n",
              "      <td>3810</td>\n",
              "      <td>Pakenham, Rythdale</td>\n",
              "      <td>479</td>\n",
              "    </tr>\n",
              "    <tr>\n",
              "      <th>6</th>\n",
              "      <td>7</td>\n",
              "      <td>3350</td>\n",
              "      <td>Alfredton, Ballarat, Canadian, Invermay Park, ...</td>\n",
              "      <td>383</td>\n",
              "    </tr>\n",
              "    <tr>\n",
              "      <th>7</th>\n",
              "      <td>8</td>\n",
              "      <td>3216</td>\n",
              "      <td>Belmont, Grovedale, Highton, Marshall, Waurn P...</td>\n",
              "      <td>351</td>\n",
              "    </tr>\n",
              "    <tr>\n",
              "      <th>8</th>\n",
              "      <td>9</td>\n",
              "      <td>3136</td>\n",
              "      <td>Croydon, Croydon Hills, Croydon North, Croydon...</td>\n",
              "      <td>344</td>\n",
              "    </tr>\n",
              "    <tr>\n",
              "      <th>9</th>\n",
              "      <td>10</td>\n",
              "      <td>3805</td>\n",
              "      <td>Fountain Gate, Narre Warren, Narre Warren South</td>\n",
              "      <td>335</td>\n",
              "    </tr>\n",
              "  </tbody>\n",
              "</table>\n",
              "</div>"
            ],
            "text/plain": [
              "   Number  Postcode                                            Suburbs  \\\n",
              "0       1      3029                          Hoppers Crossing, Tarneit   \n",
              "1       2      3977                    Cranbourne, Devon Meadows, Skye   \n",
              "2       3      3064  Craigieburn, Donnybrook, Roxburgh Park, Mickleham   \n",
              "3       4      3030                     Point Cook, Werribee, Derrimut   \n",
              "4       5      3754                                     Doreen, Mernda   \n",
              "5       6      3810                                 Pakenham, Rythdale   \n",
              "6       7      3350  Alfredton, Ballarat, Canadian, Invermay Park, ...   \n",
              "7       8      3216  Belmont, Grovedale, Highton, Marshall, Waurn P...   \n",
              "8       9      3136  Croydon, Croydon Hills, Croydon North, Croydon...   \n",
              "9      10      3805    Fountain Gate, Narre Warren, Narre Warren South   \n",
              "\n",
              "   Number of Applications  \n",
              "0                    1069  \n",
              "1                    1037  \n",
              "2                     821  \n",
              "3                     816  \n",
              "4                     530  \n",
              "5                     479  \n",
              "6                     383  \n",
              "7                     351  \n",
              "8                     344  \n",
              "9                     335  "
            ]
          },
          "execution_count": 8,
          "metadata": {},
          "output_type": "execute_result"
        }
      ],
      "source": [
        "tsv_df = pd.read_csv(tsv_url, skiprows=1, sep='\\t')\n",
        "tsv_df"
      ]
    },
    {
      "cell_type": "code",
      "execution_count": 9,
      "metadata": {
        "colab": {},
        "colab_type": "code",
        "id": "wgswI12UV3-m"
      },
      "outputs": [],
      "source": [
        "xlsx_url = 'https://github.com/PacktWorkshops/The-Data-Science-Workshop/blob/master/Chapter01/Dataset/overall_topten_2012-2013.xlsx?raw=true'"
      ]
    },
    {
      "cell_type": "code",
      "execution_count": 11,
      "metadata": {},
      "outputs": [
        {
          "name": "stdout",
          "output_type": "stream",
          "text": [
            "Collecting openpyxl\n",
            "  Downloading openpyxl-3.0.9-py2.py3-none-any.whl (242 kB)\n",
            "Collecting et-xmlfile\n",
            "  Downloading et_xmlfile-1.1.0-py3-none-any.whl (4.7 kB)\n",
            "Installing collected packages: et-xmlfile, openpyxl\n",
            "Successfully installed et-xmlfile-1.1.0 openpyxl-3.0.9\n"
          ]
        }
      ],
      "source": [
        "!pip install openpyxl"
      ]
    },
    {
      "cell_type": "code",
      "execution_count": 12,
      "metadata": {
        "colab": {
          "base_uri": "https://localhost:8080/",
          "height": 49
        },
        "colab_type": "code",
        "id": "j2iQakbMYK_t",
        "outputId": "37066af4-21c6-4ea4-9d95-cfa6ccface9c"
      },
      "outputs": [
        {
          "data": {
            "text/html": [
              "<div>\n",
              "<style scoped>\n",
              "    .dataframe tbody tr th:only-of-type {\n",
              "        vertical-align: middle;\n",
              "    }\n",
              "\n",
              "    .dataframe tbody tr th {\n",
              "        vertical-align: top;\n",
              "    }\n",
              "\n",
              "    .dataframe thead th {\n",
              "        text-align: right;\n",
              "    }\n",
              "</style>\n",
              "<table border=\"1\" class=\"dataframe\">\n",
              "  <thead>\n",
              "    <tr style=\"text-align: right;\">\n",
              "      <th></th>\n",
              "      <th>This tab doesn't contain the data we are looking for</th>\n",
              "    </tr>\n",
              "  </thead>\n",
              "  <tbody>\n",
              "  </tbody>\n",
              "</table>\n",
              "</div>"
            ],
            "text/plain": [
              "Empty DataFrame\n",
              "Columns: [This tab doesn't contain the data we are looking for]\n",
              "Index: []"
            ]
          },
          "execution_count": 12,
          "metadata": {},
          "output_type": "execute_result"
        }
      ],
      "source": [
        "xlsx_df = pd.read_excel(xlsx_url)\n",
        "xlsx_df"
      ]
    },
    {
      "cell_type": "code",
      "execution_count": 13,
      "metadata": {
        "colab": {
          "base_uri": "https://localhost:8080/",
          "height": 359
        },
        "colab_type": "code",
        "id": "OZb8mM7_W5bM",
        "outputId": "4d5968b0-f5ac-4be3-8ace-0fb51bee18f1"
      },
      "outputs": [
        {
          "data": {
            "text/html": [
              "<div>\n",
              "<style scoped>\n",
              "    .dataframe tbody tr th:only-of-type {\n",
              "        vertical-align: middle;\n",
              "    }\n",
              "\n",
              "    .dataframe tbody tr th {\n",
              "        vertical-align: top;\n",
              "    }\n",
              "\n",
              "    .dataframe thead th {\n",
              "        text-align: right;\n",
              "    }\n",
              "</style>\n",
              "<table border=\"1\" class=\"dataframe\">\n",
              "  <thead>\n",
              "    <tr style=\"text-align: right;\">\n",
              "      <th></th>\n",
              "      <th>Number</th>\n",
              "      <th>Postcode</th>\n",
              "      <th>Suburbs</th>\n",
              "      <th>Number of Applications</th>\n",
              "    </tr>\n",
              "  </thead>\n",
              "  <tbody>\n",
              "    <tr>\n",
              "      <th>0</th>\n",
              "      <td>1.0</td>\n",
              "      <td>3029.0</td>\n",
              "      <td>Hoppers Crossing, Tarneit</td>\n",
              "      <td>1069.0</td>\n",
              "    </tr>\n",
              "    <tr>\n",
              "      <th>1</th>\n",
              "      <td>2.0</td>\n",
              "      <td>3977.0</td>\n",
              "      <td>Cranbourne, Devon Meadows, Skye</td>\n",
              "      <td>1037.0</td>\n",
              "    </tr>\n",
              "    <tr>\n",
              "      <th>2</th>\n",
              "      <td>3.0</td>\n",
              "      <td>3064.0</td>\n",
              "      <td>Craigieburn, Donnybrook, Roxburgh Park, Mickleham</td>\n",
              "      <td>821.0</td>\n",
              "    </tr>\n",
              "    <tr>\n",
              "      <th>3</th>\n",
              "      <td>4.0</td>\n",
              "      <td>3030.0</td>\n",
              "      <td>Point Cook, Werribee, Derrimut</td>\n",
              "      <td>816.0</td>\n",
              "    </tr>\n",
              "    <tr>\n",
              "      <th>4</th>\n",
              "      <td>5.0</td>\n",
              "      <td>3754.0</td>\n",
              "      <td>Doreen, Mernda</td>\n",
              "      <td>530.0</td>\n",
              "    </tr>\n",
              "    <tr>\n",
              "      <th>5</th>\n",
              "      <td>6.0</td>\n",
              "      <td>3810.0</td>\n",
              "      <td>Pakenham, Rythdale</td>\n",
              "      <td>479.0</td>\n",
              "    </tr>\n",
              "    <tr>\n",
              "      <th>6</th>\n",
              "      <td>7.0</td>\n",
              "      <td>3350.0</td>\n",
              "      <td>Alfredton, Ballarat, Canadian, Invermay Park, ...</td>\n",
              "      <td>383.0</td>\n",
              "    </tr>\n",
              "    <tr>\n",
              "      <th>7</th>\n",
              "      <td>8.0</td>\n",
              "      <td>3216.0</td>\n",
              "      <td>Belmont, Grovedale, Highton, Marshall, Waurn P...</td>\n",
              "      <td>351.0</td>\n",
              "    </tr>\n",
              "    <tr>\n",
              "      <th>8</th>\n",
              "      <td>9.0</td>\n",
              "      <td>3136.0</td>\n",
              "      <td>Croydon, Croydon Hills, Croydon North, Croydon...</td>\n",
              "      <td>344.0</td>\n",
              "    </tr>\n",
              "    <tr>\n",
              "      <th>9</th>\n",
              "      <td>10.0</td>\n",
              "      <td>3805.0</td>\n",
              "      <td>Fountain Gate, Narre Warren, Narre Warren South</td>\n",
              "      <td>335.0</td>\n",
              "    </tr>\n",
              "  </tbody>\n",
              "</table>\n",
              "</div>"
            ],
            "text/plain": [
              "   Number  Postcode                                            Suburbs  \\\n",
              "0     1.0    3029.0                          Hoppers Crossing, Tarneit   \n",
              "1     2.0    3977.0                    Cranbourne, Devon Meadows, Skye   \n",
              "2     3.0    3064.0  Craigieburn, Donnybrook, Roxburgh Park, Mickleham   \n",
              "3     4.0    3030.0                     Point Cook, Werribee, Derrimut   \n",
              "4     5.0    3754.0                                     Doreen, Mernda   \n",
              "5     6.0    3810.0                                 Pakenham, Rythdale   \n",
              "6     7.0    3350.0  Alfredton, Ballarat, Canadian, Invermay Park, ...   \n",
              "7     8.0    3216.0  Belmont, Grovedale, Highton, Marshall, Waurn P...   \n",
              "8     9.0    3136.0  Croydon, Croydon Hills, Croydon North, Croydon...   \n",
              "9    10.0    3805.0    Fountain Gate, Narre Warren, Narre Warren South   \n",
              "\n",
              "   Number of Applications  \n",
              "0                  1069.0  \n",
              "1                  1037.0  \n",
              "2                   821.0  \n",
              "3                   816.0  \n",
              "4                   530.0  \n",
              "5                   479.0  \n",
              "6                   383.0  \n",
              "7                   351.0  \n",
              "8                   344.0  \n",
              "9                   335.0  "
            ]
          },
          "execution_count": 13,
          "metadata": {},
          "output_type": "execute_result"
        }
      ],
      "source": [
        "xlsx_df1 = pd.read_excel(xlsx_url, skiprows=1, sheet_name=1)\n",
        "xlsx_df1"
      ]
    },
    {
      "cell_type": "code",
      "execution_count": null,
      "metadata": {},
      "outputs": [],
      "source": []
    }
  ],
  "metadata": {
    "colab": {
      "collapsed_sections": [],
      "name": "Exercise1_02.ipynb",
      "provenance": []
    },
    "kernelspec": {
      "display_name": "Python 3",
      "name": "python3"
    },
    "language_info": {
      "codemirror_mode": {
        "name": "ipython",
        "version": 3
      },
      "file_extension": ".py",
      "mimetype": "text/x-python",
      "name": "python",
      "nbconvert_exporter": "python",
      "pygments_lexer": "ipython3",
      "version": "3.9.7"
    }
  },
  "nbformat": 4,
  "nbformat_minor": 0
}
